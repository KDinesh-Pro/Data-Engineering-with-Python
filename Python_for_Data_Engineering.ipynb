{
  "cells": [
    {
      "cell_type": "markdown",
      "metadata": {
        "id": "view-in-github",
        "colab_type": "text"
      },
      "source": [
        "<a href=\"https://colab.research.google.com/github/KDinesh-Pro/Data-Engineering-with-Python/blob/master/Python_for_Data_Engineering.ipynb\" target=\"_parent\"><img src=\"https://colab.research.google.com/assets/colab-badge.svg\" alt=\"Open In Colab\"/></a>"
      ]
    },
    {
      "cell_type": "markdown",
      "metadata": {
        "id": "Of9XHO5bN2DQ"
      },
      "source": [
        "# Practicles: Python for Data Engineering"
      ]
    },
    {
      "cell_type": "code",
      "execution_count": null,
      "metadata": {
        "colab": {
          "base_uri": "https://localhost:8080/"
        },
        "id": "TliuAtQ5NK2k",
        "outputId": "2bd47faa-591f-4981-dc8f-0acf775a6c20"
      },
      "outputs": [
        {
          "name": "stdout",
          "output_type": "stream",
          "text": [
            "Hello Data Engineering\n"
          ]
        }
      ],
      "source": [
        "print(\"Hello Data Engineering\")"
      ]
    },
    {
      "cell_type": "markdown",
      "metadata": {
        "id": "W2eFs7m1RV6E"
      },
      "source": [
        " # Python Variables & Data Types\n",
        " Variables:\n",
        "\n",
        " Variables are the containers which holds values.\n",
        "\n",
        "Data Types\n",
        "- Integers\n",
        "- Float\n",
        "- String\n",
        "- blooean\n",
        "\n"
      ]
    },
    {
      "cell_type": "code",
      "execution_count": null,
      "metadata": {
        "colab": {
          "base_uri": "https://localhost:8080/"
        },
        "id": "f7ls9VbwRgsJ",
        "outputId": "5a7dc900-1bf8-416c-b5cc-5297f95f4adc"
      },
      "outputs": [
        {
          "name": "stdout",
          "output_type": "stream",
          "text": [
            "Hello Data Engineering\n"
          ]
        }
      ],
      "source": [
        "Greetings ='Hello Data Engineering'\n",
        "#print(Greetings)\n"
      ]
    },
    {
      "cell_type": "code",
      "execution_count": null,
      "metadata": {
        "id": "eqFeLTj9Sp8k"
      },
      "outputs": [],
      "source": [
        "int_Var = 7\n",
        "float_var = 3.12\n",
        "str_var = 'Hello Data Engineering'\n",
        "bool_var = True"
      ]
    },
    {
      "cell_type": "code",
      "execution_count": null,
      "metadata": {
        "colab": {
          "base_uri": "https://localhost:8080/"
        },
        "id": "R6uOL-DoS2ye",
        "outputId": "d1037068-302b-43d8-9f5e-d02b7bd2c68c"
      },
      "outputs": [
        {
          "name": "stdout",
          "output_type": "stream",
          "text": [
            "7\n"
          ]
        }
      ],
      "source": [
        "print(int_Var)\n"
      ]
    },
    {
      "cell_type": "markdown",
      "metadata": {
        "id": "coqtD7vaTKHO"
      },
      "source": [
        "# Python Operators and Expressions\n",
        "Operators:\n",
        "- Used to perform operations\n",
        "- Can be of multiple types\n",
        "  - Arithmetic (+,-,*,/)\n",
        "  - Comparison (><, !=, ==)\n",
        "  - Logical ( AND, OR, NOT)\n"
      ]
    },
    {
      "cell_type": "markdown",
      "metadata": {
        "id": "Rv7sxwhic0j-"
      },
      "source": [
        "# Python Modules & Packages\n",
        "Modules:\n",
        " - Python files\n",
        " - Define functions, classes, variables etc.\n",
        " - import into your code to use.\n",
        "\n",
        "Packages:\n",
        "  - Organize the code files.\n",
        "  - To use package, installation needed.\n",
        "  - Way to share code.\n"
      ]
    },
    {
      "cell_type": "code",
      "execution_count": null,
      "metadata": {
        "id": "mD8g7no6c-49"
      },
      "outputs": [],
      "source": [
        " import math\n"
      ]
    },
    {
      "cell_type": "code",
      "execution_count": null,
      "metadata": {
        "colab": {
          "base_uri": "https://localhost:8080/"
        },
        "id": "NlbdVe_let2M",
        "outputId": "0184259a-d047-4416-ef9f-7b83d43dc0d5"
      },
      "outputs": [
        {
          "name": "stdout",
          "output_type": "stream",
          "text": [
            "4.0\n"
          ]
        }
      ],
      "source": [
        "print(math.sqrt(16))"
      ]
    },
    {
      "cell_type": "code",
      "execution_count": null,
      "metadata": {
        "colab": {
          "base_uri": "https://localhost:8080/"
        },
        "id": "67vu2zLhfqQB",
        "outputId": "a129494e-b823-42b2-d9f4-73a0ea7e9301"
      },
      "outputs": [
        {
          "name": "stdout",
          "output_type": "stream",
          "text": [
            "Requirement already satisfied: pandas in /usr/local/lib/python3.11/dist-packages (2.2.2)\n",
            "Requirement already satisfied: numpy>=1.23.2 in /usr/local/lib/python3.11/dist-packages (from pandas) (2.0.2)\n",
            "Requirement already satisfied: python-dateutil>=2.8.2 in /usr/local/lib/python3.11/dist-packages (from pandas) (2.8.2)\n",
            "Requirement already satisfied: pytz>=2020.1 in /usr/local/lib/python3.11/dist-packages (from pandas) (2025.1)\n",
            "Requirement already satisfied: tzdata>=2022.7 in /usr/local/lib/python3.11/dist-packages (from pandas) (2025.1)\n",
            "Requirement already satisfied: six>=1.5 in /usr/local/lib/python3.11/dist-packages (from python-dateutil>=2.8.2->pandas) (1.17.0)\n"
          ]
        }
      ],
      "source": [
        "!pip install pandas"
      ]
    },
    {
      "cell_type": "code",
      "execution_count": null,
      "metadata": {
        "colab": {
          "base_uri": "https://localhost:8080/"
        },
        "id": "1Xk6L5qBfwoS",
        "outputId": "6c747678-17b2-45dd-cc52-253f6e3f032a"
      },
      "outputs": [
        {
          "name": "stdout",
          "output_type": "stream",
          "text": [
            "    name  Age\n",
            "0   John   20\n",
            "1   Anna   30\n",
            "2  Peter   40\n"
          ]
        }
      ],
      "source": [
        "import pandas as pd\n",
        "data = {'name':['John','Anna','Peter'], 'Age':[20,30,40]}\n",
        "df = pd.DataFrame(data)\n",
        "print(df)"
      ]
    },
    {
      "cell_type": "markdown",
      "metadata": {
        "id": "w-n57tlXVAyU"
      },
      "source": [
        "#Control Structures\n",
        "-USed to control flow of execution\n",
        "- Types\n",
        "  - if statement\n",
        "  - for loops\n",
        "  - while loops"
      ]
    },
    {
      "cell_type": "code",
      "execution_count": null,
      "metadata": {
        "colab": {
          "base_uri": "https://localhost:8080/"
        },
        "id": "etIJa1kQY1qi",
        "outputId": "49b8fc7b-395a-4238-c831-812820bc0fd6"
      },
      "outputs": [
        {
          "name": "stdout",
          "output_type": "stream",
          "text": [
            "Smaller\n"
          ]
        }
      ],
      "source": [
        "num =100\n",
        "\n",
        "if num >120 :\n",
        "   print('Greater')\n",
        "else :\n",
        "  print('Smaller')\n",
        "\n",
        "\n"
      ]
    },
    {
      "cell_type": "code",
      "execution_count": null,
      "metadata": {
        "colab": {
          "base_uri": "https://localhost:8080/"
        },
        "id": "jvZWz19HZzQG",
        "outputId": "5ad50e62-c237-4385-8bfe-40c0b318599f"
      },
      "outputs": [
        {
          "name": "stdout",
          "output_type": "stream",
          "text": [
            "0\n",
            "2\n",
            "4\n",
            "6\n",
            "8\n",
            "10\n",
            "12\n",
            "14\n",
            "16\n",
            "18\n"
          ]
        }
      ],
      "source": [
        "for i in range(10):\n",
        "  print(i*2)"
      ]
    },
    {
      "cell_type": "code",
      "execution_count": null,
      "metadata": {
        "colab": {
          "base_uri": "https://localhost:8080/"
        },
        "id": "F_ehOLsPbIHF",
        "outputId": "30f64a1a-925b-4317-aed5-369e7aa1b3ab"
      },
      "outputs": [
        {
          "name": "stdout",
          "output_type": "stream",
          "text": [
            "8\n",
            "7\n",
            "6\n",
            "5\n",
            "4\n",
            "3\n",
            "2\n",
            "1\n",
            "0\n"
          ]
        }
      ],
      "source": [
        "number = 8\n",
        "while number >= 0 :\n",
        "  print(number)\n",
        "  number = number-1"
      ]
    },
    {
      "cell_type": "markdown",
      "metadata": {
        "id": "Ei_qBdlKbbaA"
      },
      "source": [
        "#Funtions\n",
        "- Reusable code block.\n",
        "- modularize the code.\n",
        "- Helps in managing the large code."
      ]
    },
    {
      "cell_type": "code",
      "execution_count": null,
      "metadata": {
        "id": "REN3M1Jcbrjl"
      },
      "outputs": [],
      "source": [
        "def greet():\n",
        "  print(\"Hello World\")"
      ]
    },
    {
      "cell_type": "code",
      "execution_count": null,
      "metadata": {
        "colab": {
          "base_uri": "https://localhost:8080/"
        },
        "id": "gtVuBxMgb7jT",
        "outputId": "5b797899-2f5d-4a6e-9f90-9e5b06cd9a04"
      },
      "outputs": [
        {
          "name": "stdout",
          "output_type": "stream",
          "text": [
            "Hello World\n"
          ]
        }
      ],
      "source": [
        "greet()"
      ]
    },
    {
      "cell_type": "code",
      "execution_count": null,
      "metadata": {
        "id": "4Tm9bq2bcFmy"
      },
      "outputs": [],
      "source": [
        "def greet(name):\n",
        "  print(\"Hello \" + name)"
      ]
    },
    {
      "cell_type": "code",
      "execution_count": null,
      "metadata": {
        "colab": {
          "base_uri": "https://localhost:8080/"
        },
        "id": "Fvi-so9CcOJ-",
        "outputId": "d78ade85-da29-4811-e306-4cf041aa894d"
      },
      "outputs": [
        {
          "name": "stdout",
          "output_type": "stream",
          "text": [
            "Hello Dinesh\n"
          ]
        }
      ],
      "source": [
        "greet(\"Dinesh\")"
      ]
    },
    {
      "cell_type": "code",
      "execution_count": null,
      "metadata": {
        "id": "pbW6ArKuccvV"
      },
      "outputs": [],
      "source": [
        "def add_numbers(num1, num2):\n",
        "  return num1 + num2"
      ]
    },
    {
      "cell_type": "code",
      "execution_count": null,
      "metadata": {
        "colab": {
          "base_uri": "https://localhost:8080/"
        },
        "id": "m57xZvb8ckqu",
        "outputId": "41648fbc-7552-49cc-8483-b0b73f0c4028"
      },
      "outputs": [
        {
          "name": "stdout",
          "output_type": "stream",
          "text": [
            "30\n"
          ]
        }
      ],
      "source": [
        "sum = add_numbers(10,20)\n",
        "print(sum)"
      ]
    },
    {
      "cell_type": "markdown",
      "metadata": {
        "id": "wJQiqnMAiJCx"
      },
      "source": [
        "# String Manipulation\n",
        "- Sequences of Characters\n",
        "- They can be letters, numbers and symbols\n",
        "\n"
      ]
    },
    {
      "cell_type": "code",
      "execution_count": null,
      "metadata": {
        "colab": {
          "base_uri": "https://localhost:8080/"
        },
        "id": "sbt6G1xfidWg",
        "outputId": "29eef539-0065-4573-d2fc-0c98e871dc32"
      },
      "outputs": [
        {
          "name": "stdout",
          "output_type": "stream",
          "text": [
            "Hello Data Engineering! \n"
          ]
        }
      ],
      "source": [
        "greetings = \"Hello Data Engineering! \"\n",
        "print(greetings)"
      ]
    },
    {
      "cell_type": "code",
      "execution_count": null,
      "metadata": {
        "colab": {
          "base_uri": "https://localhost:8080/"
        },
        "id": "8OCHMSAjkO0f",
        "outputId": "f218025e-0a2b-4a6f-a78e-fc7befe6463d"
      },
      "outputs": [
        {
          "name": "stdout",
          "output_type": "stream",
          "text": [
            "Hello Data Engineering! John\n"
          ]
        }
      ],
      "source": [
        "#add dynamic string in new result\n",
        "name ='John'\n",
        "\n",
        "message= greetings + name\n",
        "print(message)"
      ]
    },
    {
      "cell_type": "code",
      "execution_count": null,
      "metadata": {
        "colab": {
          "base_uri": "https://localhost:8080/"
        },
        "id": "57rvzQctlJqF",
        "outputId": "48a7d53f-52fa-4369-9b39-8d30300e8f3a"
      },
      "outputs": [
        {
          "name": "stdout",
          "output_type": "stream",
          "text": [
            "Hi Data Engineering! \n"
          ]
        }
      ],
      "source": [
        "# Add\n",
        "new_str = greetings.replace('Hello', 'Hi')\n",
        "print(new_str)"
      ]
    },
    {
      "cell_type": "code",
      "execution_count": null,
      "metadata": {
        "colab": {
          "base_uri": "https://localhost:8080/"
        },
        "id": "2sD67lAnldXi",
        "outputId": "a2697a0e-f744-418b-d162-d151df96befb"
      },
      "outputs": [
        {
          "name": "stdout",
          "output_type": "stream",
          "text": [
            "Data Engineering\n"
          ]
        }
      ],
      "source": [
        "sentense = ' Data Engineering    '\n",
        "print(sentense.strip())"
      ]
    },
    {
      "cell_type": "code",
      "execution_count": null,
      "metadata": {
        "colab": {
          "base_uri": "https://localhost:8080/"
        },
        "id": "H3lg9iwYl1c_",
        "outputId": "5fd444eb-b17f-4832-bf95-eea1152dc088"
      },
      "outputs": [
        {
          "name": "stdout",
          "output_type": "stream",
          "text": [
            "6\n"
          ]
        }
      ],
      "source": [
        "index = greetings.find('Data')\n",
        "print(index)"
      ]
    },
    {
      "cell_type": "code",
      "execution_count": null,
      "metadata": {
        "colab": {
          "base_uri": "https://localhost:8080/"
        },
        "id": "LcE-orf7l_0O",
        "outputId": "a28b4a8e-f103-4531-9da2-71c7919ca1f5"
      },
      "outputs": [
        {
          "name": "stdout",
          "output_type": "stream",
          "text": [
            "Hello Dinesh\n"
          ]
        }
      ],
      "source": [
        "template = 'Hello {}'\n",
        "print(template.format('Dinesh'))"
      ]
    },
    {
      "cell_type": "code",
      "execution_count": null,
      "metadata": {
        "colab": {
          "base_uri": "https://localhost:8080/"
        },
        "id": "3-hJyahvmOih",
        "outputId": "4c44b732-4f3c-4f1c-f28f-f0c6247de111"
      },
      "outputs": [
        {
          "name": "stdout",
          "output_type": "stream",
          "text": [
            "HELLO DATA ENGINEERING! \n"
          ]
        }
      ],
      "source": [
        "print(greetings.upper())"
      ]
    },
    {
      "cell_type": "code",
      "execution_count": null,
      "metadata": {
        "colab": {
          "base_uri": "https://localhost:8080/"
        },
        "id": "ZzclIS02mYR4",
        "outputId": "0329e98e-b133-4d6f-88e7-dffe34d76dff"
      },
      "outputs": [
        {
          "name": "stdout",
          "output_type": "stream",
          "text": [
            "hello data engineering! \n"
          ]
        }
      ],
      "source": [
        "print(greetings.lower())"
      ]
    },
    {
      "cell_type": "code",
      "execution_count": null,
      "metadata": {
        "colab": {
          "base_uri": "https://localhost:8080/"
        },
        "id": "Pi7hIicGmfpx",
        "outputId": "29b7a4d2-b5cb-4255-b657-b01165cb91cd"
      },
      "outputs": [
        {
          "name": "stdout",
          "output_type": "stream",
          "text": [
            "['Hello', 'Data', 'Engineering!']\n"
          ]
        }
      ],
      "source": [
        "words = greetings.split()\n",
        "print(words)"
      ]
    },
    {
      "cell_type": "markdown",
      "metadata": {
        "id": "5nDMcbYpnNHu"
      },
      "source": [
        "# Error Handling\n",
        "- Errors are inevitable\n",
        "- Handle errors gracefully"
      ]
    },
    {
      "cell_type": "code",
      "execution_count": null,
      "metadata": {
        "colab": {
          "base_uri": "https://localhost:8080/",
          "height": 141
        },
        "id": "-2oNF84anlYv",
        "outputId": "97b6d605-c93d-4bce-e4d5-b6616adca5fa"
      },
      "outputs": [
        {
          "ename": "ZeroDivisionError",
          "evalue": "division by zero",
          "output_type": "error",
          "traceback": [
            "\u001b[0;31m---------------------------------------------------------------------------\u001b[0m",
            "\u001b[0;31mZeroDivisionError\u001b[0m                         Traceback (most recent call last)",
            "\u001b[0;32m<ipython-input-78-fe01563e1bc6>\u001b[0m in \u001b[0;36m<cell line: 0>\u001b[0;34m()\u001b[0m\n\u001b[0;32m----> 1\u001b[0;31m \u001b[0mprint\u001b[0m\u001b[0;34m(\u001b[0m\u001b[0;36m10\u001b[0m\u001b[0;34m/\u001b[0m\u001b[0;36m0\u001b[0m\u001b[0;34m)\u001b[0m\u001b[0;34m\u001b[0m\u001b[0;34m\u001b[0m\u001b[0m\n\u001b[0m",
            "\u001b[0;31mZeroDivisionError\u001b[0m: division by zero"
          ]
        }
      ],
      "source": [
        "print(10/0)"
      ]
    },
    {
      "cell_type": "code",
      "execution_count": null,
      "metadata": {
        "id": "OPRke7rinv1u"
      },
      "outputs": [],
      "source": [
        "try:\n",
        "  print(10/0)\n",
        "except ZeroDivisionError:\n",
        "    print(\"Sorry you are dividing by zero\")"
      ]
    },
    {
      "cell_type": "code",
      "execution_count": null,
      "metadata": {
        "colab": {
          "base_uri": "https://localhost:8080/"
        },
        "id": "u6lPgmXYoqvY",
        "outputId": "d0990ec5-bd43-487f-8ea3-cb285ea8f1ce"
      },
      "outputs": [
        {
          "name": "stdout",
          "output_type": "stream",
          "text": [
            "5.0\n",
            "Nothing wrong happened\n",
            "Execute always\n"
          ]
        }
      ],
      "source": [
        "try:\n",
        "  print(10/2)\n",
        "except:\n",
        "  print(\"Sorry you are dividing by Zero\")\n",
        "else:\n",
        "  print(\"Nothing wrong happened\")\n",
        "finally:\n",
        "  print(\"Execute always\")"
      ]
    },
    {
      "cell_type": "markdown",
      "metadata": {
        "id": "bPTHzJg2wtJS"
      },
      "source": [
        "# Python Collection Overview.\n",
        " Collection:\n",
        " - Containers to hold multiple items.\n",
        " - Can be any types\n",
        " - Variety of collection types available\n",
        "\n",
        "Types of Collections:\n",
        " - List\n",
        "   - Orderd in nature\n",
        "   - Supports data changes\n",
        "   - Mutable\n",
        "  - Allow duplication\n",
        " - Tuple\n",
        "  - Orderd in nature\n",
        "  - Immutable\n",
        "  - Doesn't Support data changes\n",
        "  - Represents row in a table\n",
        " - Set\n",
        "   - Supports unique elements\n",
        "   - Useful for keeping unique list\n",
        " - Dictionary\n",
        "  - Support JSON\n",
        "  "
      ]
    },
    {
      "cell_type": "code",
      "execution_count": null,
      "metadata": {
        "colab": {
          "base_uri": "https://localhost:8080/"
        },
        "id": "lkC4oCPJy-KR",
        "outputId": "f65705db-e10b-417a-bd7f-fa24b07d46d3"
      },
      "outputs": [
        {
          "name": "stdout",
          "output_type": "stream",
          "text": [
            "(1, 'Dinesh', 'Developer', 98323333)\n",
            "Dinesh\n",
            "4\n"
          ]
        }
      ],
      "source": [
        "#Tuples\n",
        "\n",
        "employee = (1, 'Dinesh', 'Developer',98323333)\n",
        "print(employee)\n",
        "\n",
        "#--------------------------------\n",
        "\n",
        "print(employee[1])\n",
        "\n",
        "#---------------------------------\n",
        "\n",
        "print(len(employee))"
      ]
    },
    {
      "cell_type": "code",
      "execution_count": null,
      "metadata": {
        "colab": {
          "base_uri": "https://localhost:8080/"
        },
        "id": "6Gl_N6Ms0NLy",
        "outputId": "855562c5-1383-452d-f377-8fb7dc36bf2c"
      },
      "outputs": [
        {
          "name": "stdout",
          "output_type": "stream",
          "text": [
            "(1, 'Dinesh Kumar', 'Developer', 98323333)\n"
          ]
        }
      ],
      "source": [
        "#Tuple manipulation.\n",
        "\n",
        "employee = (1, 'Dinesh', 'Developer',98323333)\n",
        "new_emp = list(employee)\n",
        "new_emp[1]= 'Dinesh Kumar'\n",
        "employee = tuple(new_emp)\n",
        "print(employee)"
      ]
    },
    {
      "cell_type": "code",
      "execution_count": null,
      "metadata": {
        "colab": {
          "base_uri": "https://localhost:8080/"
        },
        "id": "fjZHVEdJ1PyX",
        "outputId": "d997634e-12af-4f55-d72b-1f0939be96f2"
      },
      "outputs": [
        {
          "name": "stdout",
          "output_type": "stream",
          "text": [
            "1\n",
            "Dinesh Kumar\n",
            "Developer\n",
            "98323333\n"
          ]
        }
      ],
      "source": [
        "#Tuple Iterat\n",
        "\n",
        "for a in employee:\n",
        "  print(a)"
      ]
    },
    {
      "cell_type": "code",
      "execution_count": null,
      "metadata": {
        "colab": {
          "base_uri": "https://localhost:8080/"
        },
        "id": "_tCDhj-j1d6L",
        "outputId": "10de3523-b647-4f73-e9ca-f1fc11819a98"
      },
      "outputs": [
        {
          "name": "stdout",
          "output_type": "stream",
          "text": [
            "2\n"
          ]
        }
      ],
      "source": [
        "print(employee.index('Developer'))"
      ]
    },
    {
      "cell_type": "code",
      "execution_count": null,
      "metadata": {
        "colab": {
          "base_uri": "https://localhost:8080/"
        },
        "id": "_TnRK38Y1xKW",
        "outputId": "3ee016b7-0a34-40e7-b363-6ca25e972626"
      },
      "outputs": [
        {
          "name": "stdout",
          "output_type": "stream",
          "text": [
            "['development', 'testing', 'monitoring']\n"
          ]
        }
      ],
      "source": [
        "# List\n",
        "\n",
        "tasks = ['development','testing','monitoring']\n",
        "print(tasks)"
      ]
    },
    {
      "cell_type": "code",
      "execution_count": null,
      "metadata": {
        "colab": {
          "base_uri": "https://localhost:8080/"
        },
        "id": "YtM7xn1S2aGw",
        "outputId": "759f4025-9b81-4090-b874-ad6cfbfdc97b"
      },
      "outputs": [
        {
          "name": "stdout",
          "output_type": "stream",
          "text": [
            "monitoring\n"
          ]
        }
      ],
      "source": [
        "print(tasks[2])"
      ]
    },
    {
      "cell_type": "code",
      "execution_count": null,
      "metadata": {
        "colab": {
          "base_uri": "https://localhost:8080/"
        },
        "id": "mF-DclW62jKG",
        "outputId": "e69259a0-6468-4d24-947d-84a78b58aebb"
      },
      "outputs": [
        {
          "name": "stdout",
          "output_type": "stream",
          "text": [
            "['development', 'Production', 'monitoring']\n",
            "1\n"
          ]
        }
      ],
      "source": [
        "# List Manipulation\n",
        "\n",
        "tasks[1]='Production'\n",
        "print(tasks)\n",
        "print(tasks.index('Production'))"
      ]
    },
    {
      "cell_type": "code",
      "execution_count": null,
      "metadata": {
        "colab": {
          "background_save": true,
          "base_uri": "https://localhost:8080/"
        },
        "id": "gOgIr-AF4K-Q",
        "outputId": "b3ece08c-c3bb-4fa0-b443-821f8da776cc"
      },
      "outputs": [
        {
          "name": "stdout",
          "output_type": "stream",
          "text": [
            "['development', 'Production', 'monitoring']\n"
          ]
        }
      ],
      "source": [
        "# List Manipulation\n",
        "print(tasks)"
      ]
    }
  ],
  "metadata": {
    "colab": {
      "provenance": [],
      "authorship_tag": "ABX9TyPDewtGXFUE+Lim0jl1AwcR",
      "include_colab_link": true
    },
    "kernelspec": {
      "display_name": "Python 3",
      "name": "python3"
    },
    "language_info": {
      "name": "python"
    }
  },
  "nbformat": 4,
  "nbformat_minor": 0
}